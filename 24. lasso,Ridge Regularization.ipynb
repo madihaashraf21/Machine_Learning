{
 "cells": [
  {
   "cell_type": "code",
   "execution_count": null,
   "id": "76a64e8d-4264-4f7d-8998-ba9c07be7a74",
   "metadata": {},
   "outputs": [],
   "source": [
    "import pandas as pd \n",
    "import matplotlib.pyplot as plt \n",
    "import seaborn as sns \n",
    "from sklearn.preprocessing import StandardScaler \n",
    "from sklearn.model_selection import train_test_split "
   ]
  },
  {
   "cell_type": "code",
   "execution_count": null,
   "id": "e421c821-3962-497c-8174-bc811028bd52",
   "metadata": {},
   "outputs": [],
   "source": [
    "dataset=pd.read_csv(\"Housing.csv\")"
   ]
  },
  {
   "cell_type": "code",
   "execution_count": null,
   "id": "0cb05154-c6f2-400e-8a97-a668c5350eff",
   "metadata": {},
   "outputs": [],
   "source": [
    "dataset.head()"
   ]
  },
  {
   "cell_type": "code",
   "execution_count": null,
   "id": "09a5574b-cbe3-4c94-8b36-ed51d633e462",
   "metadata": {},
   "outputs": [],
   "source": [
    "dataset.isnull().sum()"
   ]
  },
  {
   "cell_type": "code",
   "execution_count": null,
   "id": "71ddbd78-62ab-44a8-b6b1-4a692b229650",
   "metadata": {},
   "outputs": [],
   "source": [
    "dataset[\"price\"].fillna(dataset[\"price\"].mode()[0], inplace=True)"
   ]
  },
  {
   "cell_type": "code",
   "execution_count": null,
   "id": "49f9c378-8b7c-47b9-9b9e-ef41e5e22ac0",
   "metadata": {},
   "outputs": [],
   "source": [
    "plt.figure(figsize=(8,10))\n",
    "sns.heatmap(dataset.corr() , annot = True)\n",
    "plt.show()"
   ]
  },
  {
   "cell_type": "code",
   "execution_count": null,
   "id": "62aeedad-742b-460a-a9c9-3bdd2291f3b4",
   "metadata": {},
   "outputs": [],
   "source": [
    "x=dataset.iloc[: ,:-1]\n",
    "y=dataset[\"price\"]"
   ]
  },
  {
   "cell_type": "code",
   "execution_count": null,
   "id": "cbd22ca1-95ce-464d-89d2-e324ad227c23",
   "metadata": {},
   "outputs": [],
   "source": [
    "ss=StandardScaler()"
   ]
  },
  {
   "cell_type": "code",
   "execution_count": null,
   "id": "b98d0c9c-ece4-40ed-b013-eec32b193332",
   "metadata": {},
   "outputs": [],
   "source": [
    "ss.fit(x)"
   ]
  },
  {
   "cell_type": "code",
   "execution_count": null,
   "id": "2278a018-ba5c-4bb9-a3ec-fbfbf7c6ff05",
   "metadata": {},
   "outputs": [],
   "source": [
    "x=pd.DataFrame(ss.transform(x) , columns=x.columns)"
   ]
  },
  {
   "cell_type": "code",
   "execution_count": null,
   "id": "0901c40d-35f8-4760-8a49-5a719121e8ab",
   "metadata": {},
   "outputs": [],
   "source": [
    "x.columns"
   ]
  },
  {
   "cell_type": "code",
   "execution_count": null,
   "id": "4cf9df33-7292-4e84-be2a-d089f00a0c49",
   "metadata": {},
   "outputs": [],
   "source": [
    "x_train , x_test ,y_train ,y_test = train_test_split(x,y, test_size= 0.2 ,random_state=42)"
   ]
  },
  {
   "cell_type": "code",
   "execution_count": null,
   "id": "474234b3-2d5b-4049-aa6f-cdf5451898c5",
   "metadata": {},
   "outputs": [],
   "source": [
    "y_train.isnull().sum()"
   ]
  },
  {
   "cell_type": "markdown",
   "id": "4b0175dd-d754-4548-8379-7de83b584abb",
   "metadata": {},
   "source": [
    "#LinearRegression"
   ]
  },
  {
   "cell_type": "code",
   "execution_count": null,
   "id": "da06166b-76b8-48e7-ae01-96bc72acf691",
   "metadata": {},
   "outputs": [],
   "source": [
    "from sklearn.linear_model import LinearRegression,Lasso ,Ridge"
   ]
  },
  {
   "cell_type": "code",
   "execution_count": null,
   "id": "25d23d27-6ad8-46d6-bfd3-6bf57329be5d",
   "metadata": {},
   "outputs": [],
   "source": [
    "lr=LinearRegression()"
   ]
  },
  {
   "cell_type": "code",
   "execution_count": null,
   "id": "e0157f51-2300-43e7-b531-e181783dc7cb",
   "metadata": {},
   "outputs": [],
   "source": [
    "lr.fit(x_train ,y_train)"
   ]
  },
  {
   "cell_type": "code",
   "execution_count": null,
   "id": "10ebaf42-77e6-48b2-b9e8-9f5f0fa56e80",
   "metadata": {},
   "outputs": [],
   "source": [
    "lr.score(x_test ,y_test) * 100 "
   ]
  },
  {
   "cell_type": "code",
   "execution_count": null,
   "id": "6722b5b3-7076-45b2-9f7a-30055d50fa06",
   "metadata": {},
   "outputs": [],
   "source": [
    "plt.figure(figsize=(14,9))\n",
    "plt.title(\"Linear Regression \")\n",
    "plt.xlabel(\"columns\")\n",
    "plt.ylabel(\"coeff\")\n",
    "plt.bar(x.columns ,lr.coef_)\n",
    "plt.show()\n"
   ]
  },
  {
   "cell_type": "markdown",
   "id": "85011cfe-7f65-4980-9e22-e0140ccb5b91",
   "metadata": {},
   "source": [
    "#LASSO"
   ]
  },
  {
   "cell_type": "code",
   "execution_count": null,
   "id": "1377ea0a-a27d-425a-807a-0152b457be60",
   "metadata": {},
   "outputs": [],
   "source": [
    "la=Lasso(alpha=0.5)"
   ]
  },
  {
   "cell_type": "code",
   "execution_count": null,
   "id": "fd44e424-135c-4637-8bbc-1141bf48d324",
   "metadata": {},
   "outputs": [],
   "source": [
    "la.fit(x_train ,y_train)"
   ]
  },
  {
   "cell_type": "code",
   "execution_count": null,
   "id": "11420776-91b6-4a50-a56f-e37ac3250909",
   "metadata": {},
   "outputs": [],
   "source": [
    "la.score(x_test ,y_test) * 100 "
   ]
  },
  {
   "cell_type": "code",
   "execution_count": null,
   "id": "6c3c1e55-1399-4cad-a2da-46266e9958e3",
   "metadata": {},
   "outputs": [],
   "source": [
    "plt.figure(figsize=(14,9))\n",
    "plt.title(\" Lasso\")\n",
    "plt.xlabel(\"columns\")\n",
    "plt.ylabel(\"coeff\")\n",
    "plt.bar(x.columns ,la.coef_)\n",
    "plt.show()\n"
   ]
  },
  {
   "cell_type": "markdown",
   "id": "32af3356-f196-4926-bbf0-7869ecf90d0f",
   "metadata": {},
   "source": [
    "#ridge"
   ]
  },
  {
   "cell_type": "code",
   "execution_count": null,
   "id": "39866703-993a-4945-a55a-dfe2ca55e60d",
   "metadata": {},
   "outputs": [],
   "source": [
    "r=Ridge(alpha=0.5)"
   ]
  },
  {
   "cell_type": "code",
   "execution_count": null,
   "id": "8ce68f96-0bad-4f78-8513-2120ee440a19",
   "metadata": {},
   "outputs": [],
   "source": [
    "r.fit(x_train ,y_train)"
   ]
  },
  {
   "cell_type": "code",
   "execution_count": null,
   "id": "6405086c-2607-4eec-9e3f-ec02f1829bcc",
   "metadata": {},
   "outputs": [],
   "source": [
    "r.score(x_test , y_test) * 100"
   ]
  },
  {
   "cell_type": "code",
   "execution_count": null,
   "id": "aabee746-0c7d-455c-85e5-c20a7d2cb7f1",
   "metadata": {},
   "outputs": [],
   "source": [
    "plt.figure(figsize=(14,9))\n",
    "plt.title(\" Ridge\")\n",
    "plt.xlabel(\"columns\")\n",
    "plt.ylabel(\"coeff\")\n",
    "plt.bar(x.columns ,r.coef_)\n",
    "plt.show()\n"
   ]
  },
  {
   "cell_type": "code",
   "execution_count": null,
   "id": "6a2628ed-a6a9-41b7-b487-0b6c5028cc00",
   "metadata": {},
   "outputs": [],
   "source": [
    "-0.099009704324593\n",
    "-0.09901371551495064\n",
    "-0.09900309835817467"
   ]
  }
 ],
 "metadata": {
  "kernelspec": {
   "display_name": "Python 3 (ipykernel)",
   "language": "python",
   "name": "python3"
  },
  "language_info": {
   "codemirror_mode": {
    "name": "ipython",
    "version": 3
   },
   "file_extension": ".py",
   "mimetype": "text/x-python",
   "name": "python",
   "nbconvert_exporter": "python",
   "pygments_lexer": "ipython3",
   "version": "3.13.5"
  }
 },
 "nbformat": 4,
 "nbformat_minor": 5
}
