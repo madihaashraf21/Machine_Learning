{
 "cells": [
  {
   "cell_type": "code",
   "execution_count": 1,
   "id": "1a47766f-8263-4c5e-ad81-17f7b7411d2c",
   "metadata": {},
   "outputs": [],
   "source": [
    "import pandas as pd\n",
    "import seaborn as sns \n",
    "import matplotlib.pyplot as plt"
   ]
  },
  {
   "cell_type": "code",
   "execution_count": 2,
   "id": "d2412e74-63fc-4f0e-8281-922e29a8800b",
   "metadata": {},
   "outputs": [],
   "source": [
    "dataset=pd.read_csv(\"loan.csv\")"
   ]
  },
  {
   "cell_type": "code",
   "execution_count": 3,
   "id": "5e8799d5-fc05-4bc2-9c84-da6340c32e37",
   "metadata": {},
   "outputs": [
    {
     "data": {
      "text/html": [
       "<div>\n",
       "<style scoped>\n",
       "    .dataframe tbody tr th:only-of-type {\n",
       "        vertical-align: middle;\n",
       "    }\n",
       "\n",
       "    .dataframe tbody tr th {\n",
       "        vertical-align: top;\n",
       "    }\n",
       "\n",
       "    .dataframe thead th {\n",
       "        text-align: right;\n",
       "    }\n",
       "</style>\n",
       "<table border=\"1\" class=\"dataframe\">\n",
       "  <thead>\n",
       "    <tr style=\"text-align: right;\">\n",
       "      <th></th>\n",
       "      <th>loan_id</th>\n",
       "      <th>Gender</th>\n",
       "      <th>Married</th>\n",
       "      <th>Dependents</th>\n",
       "      <th>Education</th>\n",
       "      <th>self_employed</th>\n",
       "      <th>applicantincome</th>\n",
       "      <th>coapplicant_income</th>\n",
       "      <th>loan_amount</th>\n",
       "      <th>property</th>\n",
       "    </tr>\n",
       "  </thead>\n",
       "  <tbody>\n",
       "    <tr>\n",
       "      <th>0</th>\n",
       "      <td>12.0</td>\n",
       "      <td>male</td>\n",
       "      <td>no</td>\n",
       "      <td>0.0</td>\n",
       "      <td>graduate</td>\n",
       "      <td>no</td>\n",
       "      <td>453453.0</td>\n",
       "      <td>0</td>\n",
       "      <td>232</td>\n",
       "      <td>urban</td>\n",
       "    </tr>\n",
       "    <tr>\n",
       "      <th>1</th>\n",
       "      <td>34.0</td>\n",
       "      <td>female</td>\n",
       "      <td>yes</td>\n",
       "      <td>1.0</td>\n",
       "      <td>NaN</td>\n",
       "      <td>yes</td>\n",
       "      <td>5435.0</td>\n",
       "      <td>3434</td>\n",
       "      <td>232</td>\n",
       "      <td>rural</td>\n",
       "    </tr>\n",
       "    <tr>\n",
       "      <th>2</th>\n",
       "      <td>5.0</td>\n",
       "      <td>male</td>\n",
       "      <td>NaN</td>\n",
       "      <td>2.0</td>\n",
       "      <td>ungraduate</td>\n",
       "      <td>NaN</td>\n",
       "      <td>4545.0</td>\n",
       "      <td>3</td>\n",
       "      <td>32</td>\n",
       "      <td>rural</td>\n",
       "    </tr>\n",
       "    <tr>\n",
       "      <th>3</th>\n",
       "      <td>65.0</td>\n",
       "      <td>NaN</td>\n",
       "      <td>no</td>\n",
       "      <td>NaN</td>\n",
       "      <td>NaN</td>\n",
       "      <td>no</td>\n",
       "      <td>NaN</td>\n",
       "      <td>3434</td>\n",
       "      <td>2</td>\n",
       "      <td>urban</td>\n",
       "    </tr>\n",
       "  </tbody>\n",
       "</table>\n",
       "</div>"
      ],
      "text/plain": [
       "   loan_id  Gender Married  Dependents   Education self_employed  \\\n",
       "0     12.0    male      no         0.0    graduate            no   \n",
       "1     34.0  female     yes         1.0         NaN           yes   \n",
       "2      5.0    male     NaN         2.0  ungraduate           NaN   \n",
       "3     65.0     NaN      no         NaN         NaN            no   \n",
       "\n",
       "   applicantincome  coapplicant_income  loan_amount property  \n",
       "0         453453.0                   0          232    urban  \n",
       "1           5435.0                3434          232    rural  \n",
       "2           4545.0                   3           32    rural  \n",
       "3              NaN                3434            2    urban  "
      ]
     },
     "execution_count": 3,
     "metadata": {},
     "output_type": "execute_result"
    }
   ],
   "source": [
    "dataset.head(4)"
   ]
  },
  {
   "cell_type": "code",
   "execution_count": 4,
   "id": "0069525e-611c-4e30-903d-5d298fbd9eb0",
   "metadata": {},
   "outputs": [
    {
     "data": {
      "text/plain": [
       "loan_id               1\n",
       "Gender                3\n",
       "Married               3\n",
       "Dependents            3\n",
       "Education             5\n",
       "self_employed         3\n",
       "applicantincome       4\n",
       "coapplicant_income    0\n",
       "loan_amount           0\n",
       "property              0\n",
       "dtype: int64"
      ]
     },
     "execution_count": 4,
     "metadata": {},
     "output_type": "execute_result"
    }
   ],
   "source": [
    "dataset.isnull().sum()"
   ]
  },
  {
   "cell_type": "code",
   "execution_count": 5,
   "id": "751dab52-ed14-4204-8a43-aa001c3d7de0",
   "metadata": {},
   "outputs": [
    {
     "name": "stdout",
     "output_type": "stream",
     "text": [
      "<class 'pandas.core.frame.DataFrame'>\n",
      "RangeIndex: 9 entries, 0 to 8\n",
      "Data columns (total 10 columns):\n",
      " #   Column              Non-Null Count  Dtype  \n",
      "---  ------              --------------  -----  \n",
      " 0   loan_id             8 non-null      float64\n",
      " 1   Gender              6 non-null      object \n",
      " 2   Married             6 non-null      object \n",
      " 3   Dependents          6 non-null      float64\n",
      " 4   Education           4 non-null      object \n",
      " 5   self_employed       6 non-null      object \n",
      " 6   applicantincome     5 non-null      float64\n",
      " 7   coapplicant_income  9 non-null      int64  \n",
      " 8   loan_amount         9 non-null      int64  \n",
      " 9   property            9 non-null      object \n",
      "dtypes: float64(3), int64(2), object(5)\n",
      "memory usage: 852.0+ bytes\n"
     ]
    }
   ],
   "source": [
    "dataset.info()"
   ]
  },
  {
   "cell_type": "code",
   "execution_count": 6,
   "id": "015a3cc4-2a62-4e45-a83e-bd5fcaf70e7f",
   "metadata": {},
   "outputs": [
    {
     "data": {
      "text/html": [
       "<div>\n",
       "<style scoped>\n",
       "    .dataframe tbody tr th:only-of-type {\n",
       "        vertical-align: middle;\n",
       "    }\n",
       "\n",
       "    .dataframe tbody tr th {\n",
       "        vertical-align: top;\n",
       "    }\n",
       "\n",
       "    .dataframe thead th {\n",
       "        text-align: right;\n",
       "    }\n",
       "</style>\n",
       "<table border=\"1\" class=\"dataframe\">\n",
       "  <thead>\n",
       "    <tr style=\"text-align: right;\">\n",
       "      <th></th>\n",
       "      <th>loan_id</th>\n",
       "      <th>Dependents</th>\n",
       "      <th>applicantincome</th>\n",
       "      <th>coapplicant_income</th>\n",
       "      <th>loan_amount</th>\n",
       "    </tr>\n",
       "  </thead>\n",
       "  <tbody>\n",
       "    <tr>\n",
       "      <th>count</th>\n",
       "      <td>8.000000</td>\n",
       "      <td>6.000000</td>\n",
       "      <td>5.000000</td>\n",
       "      <td>9.000000</td>\n",
       "      <td>9.000000</td>\n",
       "    </tr>\n",
       "    <tr>\n",
       "      <th>mean</th>\n",
       "      <td>132.250000</td>\n",
       "      <td>1.000000</td>\n",
       "      <td>93596.400000</td>\n",
       "      <td>3851.000000</td>\n",
       "      <td>134.444444</td>\n",
       "    </tr>\n",
       "    <tr>\n",
       "      <th>std</th>\n",
       "      <td>258.564029</td>\n",
       "      <td>0.894427</td>\n",
       "      <td>201177.189335</td>\n",
       "      <td>7430.652394</td>\n",
       "      <td>139.959022</td>\n",
       "    </tr>\n",
       "    <tr>\n",
       "      <th>min</th>\n",
       "      <td>5.000000</td>\n",
       "      <td>0.000000</td>\n",
       "      <td>4.000000</td>\n",
       "      <td>0.000000</td>\n",
       "      <td>2.000000</td>\n",
       "    </tr>\n",
       "    <tr>\n",
       "      <th>25%</th>\n",
       "      <td>11.000000</td>\n",
       "      <td>0.250000</td>\n",
       "      <td>4545.000000</td>\n",
       "      <td>323.000000</td>\n",
       "      <td>32.000000</td>\n",
       "    </tr>\n",
       "    <tr>\n",
       "      <th>50%</th>\n",
       "      <td>49.500000</td>\n",
       "      <td>1.000000</td>\n",
       "      <td>4545.000000</td>\n",
       "      <td>454.000000</td>\n",
       "      <td>32.000000</td>\n",
       "    </tr>\n",
       "    <tr>\n",
       "      <th>75%</th>\n",
       "      <td>80.750000</td>\n",
       "      <td>1.750000</td>\n",
       "      <td>5435.000000</td>\n",
       "      <td>3434.000000</td>\n",
       "      <td>232.000000</td>\n",
       "    </tr>\n",
       "    <tr>\n",
       "      <th>max</th>\n",
       "      <td>767.000000</td>\n",
       "      <td>2.000000</td>\n",
       "      <td>453453.000000</td>\n",
       "      <td>23223.000000</td>\n",
       "      <td>323.000000</td>\n",
       "    </tr>\n",
       "  </tbody>\n",
       "</table>\n",
       "</div>"
      ],
      "text/plain": [
       "          loan_id  Dependents  applicantincome  coapplicant_income  \\\n",
       "count    8.000000    6.000000         5.000000            9.000000   \n",
       "mean   132.250000    1.000000     93596.400000         3851.000000   \n",
       "std    258.564029    0.894427    201177.189335         7430.652394   \n",
       "min      5.000000    0.000000         4.000000            0.000000   \n",
       "25%     11.000000    0.250000      4545.000000          323.000000   \n",
       "50%     49.500000    1.000000      4545.000000          454.000000   \n",
       "75%     80.750000    1.750000      5435.000000         3434.000000   \n",
       "max    767.000000    2.000000    453453.000000        23223.000000   \n",
       "\n",
       "       loan_amount  \n",
       "count     9.000000  \n",
       "mean    134.444444  \n",
       "std     139.959022  \n",
       "min       2.000000  \n",
       "25%      32.000000  \n",
       "50%      32.000000  \n",
       "75%     232.000000  \n",
       "max     323.000000  "
      ]
     },
     "execution_count": 6,
     "metadata": {},
     "output_type": "execute_result"
    }
   ],
   "source": [
    "dataset.describe()"
   ]
  },
  {
   "cell_type": "code",
   "execution_count": 15,
   "id": "d2e4199e-2bf9-4f11-982b-8f7dd6e1743e",
   "metadata": {},
   "outputs": [
    {
     "data": {
      "image/png": "[encoded data removed]",
      "text/plain": [
       "<Figure size 640x480 with 1 Axes>"
      ]
     },
     "metadata": {},
     "output_type": "display_data"
    }
   ],
   "source": [
    "sns.boxplot(x=\"coapplicant_income\",data=dataset)\n",
    "plt.show()"
   ]
  },
  {
   "cell_type": "code",
   "execution_count": 22,
   "id": "aec4e171-e270-42da-beb7-8f9fe0d5245d",
   "metadata": {},
   "outputs": [
    {
     "data": {
      "image/png": "[encoded data removed]",
      "text/plain": [
       "<Figure size 640x480 with 1 Axes>"
      ]
     },
     "metadata": {},
     "output_type": "display_data"
    }
   ],
   "source": [
    "sns.boxplot(x=\"applicantincome\",data=dataset)\n",
    "plt.show()"
   ]
  },
  {
   "cell_type": "code",
   "execution_count": 21,
   "id": "7c2f2f31-0fdb-411c-aaf6-68664d2e1fb7",
   "metadata": {},
   "outputs": [
    {
     "data": {
      "text/plain": [
       "<seaborn.axisgrid.FacetGrid at 0x16d9ff7d6d0>"
      ]
     },
     "execution_count": 21,
     "metadata": {},
     "output_type": "execute_result"
    },
    {
     "data": {
      "image/png": "[encoded data removed]",
      "text/plain": [
       "<Figure size 500x500 with 1 Axes>"
      ]
     },
     "metadata": {},
     "output_type": "display_data"
    }
   ],
   "source": [
    "sns.displot(dataset[\"applicantincome\"])\n"
   ]
  },
  {
   "cell_type": "code",
   "execution_count": 18,
   "id": "6acd8a50-7608-4fb6-ba3c-030531e6cb63",
   "metadata": {},
   "outputs": [
    {
     "data": {
      "image/png": "[encoded data removed]",
      "text/plain": [
       "<Figure size 500x500 with 1 Axes>"
      ]
     },
     "metadata": {},
     "output_type": "display_data"
    }
   ],
   "source": [
    "sns.displot(dataset[\"coapplicant_income\"])\n",
    "plt.show()"
   ]
  },
  {
   "cell_type": "code",
   "execution_count": null,
   "id": "61a9e57c-a1b5-4c9b-8600-802a84f7859b",
   "metadata": {},
   "outputs": [],
   "source": []
  },
  {
   "cell_type": "code",
   "execution_count": null,
   "id": "70241857-5ef3-4de6-ade8-047f56a78dc4",
   "metadata": {},
   "outputs": [],
   "source": []
  }
 ],
 "metadata": {
  "kernelspec": {
   "display_name": "Python 3 (ipykernel)",
   "language": "python",
   "name": "python3"
  },
  "language_info": {
   "codemirror_mode": {
    "name": "ipython",
    "version": 3
   },
   "file_extension": ".py",
   "mimetype": "text/x-python",
   "name": "python",
   "nbconvert_exporter": "python",
   "pygments_lexer": "ipython3",
   "version": "3.13.5"
  }
 },
 "nbformat": 4,
 "nbformat_minor": 5
}
