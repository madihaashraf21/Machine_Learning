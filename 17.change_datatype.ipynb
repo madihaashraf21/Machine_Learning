{
 "cells": [
  {
   "cell_type": "code",
   "execution_count": 1,
   "id": "b53d2f32-41da-4bc6-9933-3cb43c95fc65",
   "metadata": {},
   "outputs": [],
   "source": [
    "import pandas as pd"
   ]
  },
  {
   "cell_type": "code",
   "execution_count": 2,
   "id": "72aef198-36a2-447f-b46a-17b921a3cab3",
   "metadata": {},
   "outputs": [],
   "source": [
    "dataset=pd.read_csv(\"loan.csv\")"
   ]
  },
  {
   "cell_type": "code",
   "execution_count": 3,
   "id": "87d20291-146a-4129-8dcb-66d4e057a758",
   "metadata": {},
   "outputs": [
    {
     "data": {
      "text/html": [
       "<div>\n",
       "<style scoped>\n",
       "    .dataframe tbody tr th:only-of-type {\n",
       "        vertical-align: middle;\n",
       "    }\n",
       "\n",
       "    .dataframe tbody tr th {\n",
       "        vertical-align: top;\n",
       "    }\n",
       "\n",
       "    .dataframe thead th {\n",
       "        text-align: right;\n",
       "    }\n",
       "</style>\n",
       "<table border=\"1\" class=\"dataframe\">\n",
       "  <thead>\n",
       "    <tr style=\"text-align: right;\">\n",
       "      <th></th>\n",
       "      <th>loan_id</th>\n",
       "      <th>Gender</th>\n",
       "      <th>Married</th>\n",
       "      <th>Dependents</th>\n",
       "      <th>Education</th>\n",
       "      <th>self_employed</th>\n",
       "      <th>applicantincome</th>\n",
       "      <th>coapplicant_income</th>\n",
       "      <th>loan_amount</th>\n",
       "      <th>property</th>\n",
       "    </tr>\n",
       "  </thead>\n",
       "  <tbody>\n",
       "    <tr>\n",
       "      <th>0</th>\n",
       "      <td>12.0</td>\n",
       "      <td>male</td>\n",
       "      <td>no</td>\n",
       "      <td>0</td>\n",
       "      <td>graduate</td>\n",
       "      <td>no</td>\n",
       "      <td>453453.0</td>\n",
       "      <td>0</td>\n",
       "      <td>232.0</td>\n",
       "      <td>urban</td>\n",
       "    </tr>\n",
       "    <tr>\n",
       "      <th>1</th>\n",
       "      <td>34.0</td>\n",
       "      <td>female</td>\n",
       "      <td>yes</td>\n",
       "      <td>1</td>\n",
       "      <td>NaN</td>\n",
       "      <td>yes</td>\n",
       "      <td>5435.0</td>\n",
       "      <td>3434</td>\n",
       "      <td>232.0</td>\n",
       "      <td>rural</td>\n",
       "    </tr>\n",
       "    <tr>\n",
       "      <th>2</th>\n",
       "      <td>5.0</td>\n",
       "      <td>male</td>\n",
       "      <td>NaN</td>\n",
       "      <td>2</td>\n",
       "      <td>ungraduate</td>\n",
       "      <td>NaN</td>\n",
       "      <td>4545.0</td>\n",
       "      <td>3</td>\n",
       "      <td>32.0</td>\n",
       "      <td>rural</td>\n",
       "    </tr>\n",
       "    <tr>\n",
       "      <th>3</th>\n",
       "      <td>65.0</td>\n",
       "      <td>NaN</td>\n",
       "      <td>no</td>\n",
       "      <td>3+</td>\n",
       "      <td>NaN</td>\n",
       "      <td>no</td>\n",
       "      <td>NaN</td>\n",
       "      <td>3434</td>\n",
       "      <td>2.0</td>\n",
       "      <td>urban</td>\n",
       "    </tr>\n",
       "    <tr>\n",
       "      <th>4</th>\n",
       "      <td>767.0</td>\n",
       "      <td>female</td>\n",
       "      <td>yes</td>\n",
       "      <td>2</td>\n",
       "      <td>graduate</td>\n",
       "      <td>NaN</td>\n",
       "      <td>23.0</td>\n",
       "      <td>3445</td>\n",
       "      <td>323.0</td>\n",
       "      <td>rural</td>\n",
       "    </tr>\n",
       "  </tbody>\n",
       "</table>\n",
       "</div>"
      ],
      "text/plain": [
       "   loan_id  Gender Married Dependents   Education self_employed  \\\n",
       "0     12.0    male      no          0    graduate            no   \n",
       "1     34.0  female     yes          1         NaN           yes   \n",
       "2      5.0    male     NaN          2  ungraduate           NaN   \n",
       "3     65.0     NaN      no         3+         NaN            no   \n",
       "4    767.0  female     yes          2    graduate           NaN   \n",
       "\n",
       "   applicantincome  coapplicant_income  loan_amount property  \n",
       "0         453453.0                   0        232.0    urban  \n",
       "1           5435.0                3434        232.0    rural  \n",
       "2           4545.0                   3         32.0    rural  \n",
       "3              NaN                3434          2.0    urban  \n",
       "4             23.0                3445        323.0    rural  "
      ]
     },
     "execution_count": 3,
     "metadata": {},
     "output_type": "execute_result"
    }
   ],
   "source": [
    "dataset.head(5)"
   ]
  },
  {
   "cell_type": "code",
   "execution_count": 4,
   "id": "90ad17ef-a326-43ee-8480-1e5341b99c02",
   "metadata": {},
   "outputs": [
    {
     "name": "stdout",
     "output_type": "stream",
     "text": [
      "<class 'pandas.core.frame.DataFrame'>\n",
      "RangeIndex: 12 entries, 0 to 11\n",
      "Data columns (total 10 columns):\n",
      " #   Column              Non-Null Count  Dtype  \n",
      "---  ------              --------------  -----  \n",
      " 0   loan_id             11 non-null     float64\n",
      " 1   Gender              8 non-null      object \n",
      " 2   Married             8 non-null      object \n",
      " 3   Dependents          10 non-null     object \n",
      " 4   Education           5 non-null      object \n",
      " 5   self_employed       9 non-null      object \n",
      " 6   applicantincome     9 non-null      float64\n",
      " 7   coapplicant_income  12 non-null     int64  \n",
      " 8   loan_amount         11 non-null     float64\n",
      " 9   property            11 non-null     object \n",
      "dtypes: float64(3), int64(1), object(6)\n",
      "memory usage: 1.1+ KB\n"
     ]
    }
   ],
   "source": [
    "# converting Dependents datatype from object to int  \n",
    "dataset.info()"
   ]
  },
  {
   "cell_type": "code",
   "execution_count": 5,
   "id": "0ae7762d-5bce-49b7-985d-d5b99ae20158",
   "metadata": {},
   "outputs": [],
   "source": [
    "dataset.fillna({\"Dependents\":dataset[\"Dependents\"].mode()[0]},inplace=True)"
   ]
  },
  {
   "cell_type": "code",
   "execution_count": 6,
   "id": "48af8b8a-ae35-4d78-ad46-77a56a665ed8",
   "metadata": {},
   "outputs": [
    {
     "data": {
      "text/plain": [
       "loan_id               1\n",
       "Gender                4\n",
       "Married               4\n",
       "Dependents            0\n",
       "Education             7\n",
       "self_employed         3\n",
       "applicantincome       3\n",
       "coapplicant_income    0\n",
       "loan_amount           1\n",
       "property              1\n",
       "dtype: int64"
      ]
     },
     "execution_count": 6,
     "metadata": {},
     "output_type": "execute_result"
    }
   ],
   "source": [
    "dataset.isnull().sum()"
   ]
  },
  {
   "cell_type": "code",
   "execution_count": 7,
   "id": "59ed8670-8ad8-4154-b69d-80b0360d100b",
   "metadata": {},
   "outputs": [
    {
     "data": {
      "text/plain": [
       "Dependents\n",
       "0     5\n",
       "1     3\n",
       "2     2\n",
       "3+    2\n",
       "Name: count, dtype: int64"
      ]
     },
     "execution_count": 7,
     "metadata": {},
     "output_type": "execute_result"
    }
   ],
   "source": [
    "dataset[\"Dependents\"].value_counts()"
   ]
  },
  {
   "cell_type": "code",
   "execution_count": 15,
   "id": "8c59c8fc-01d0-4c18-be2a-8c532dc6f353",
   "metadata": {},
   "outputs": [],
   "source": [
    "dataset.replace({\"Dependents\":{\"3+\",\"3\"}},inplace=True)\n"
   ]
  },
  {
   "cell_type": "code",
   "execution_count": 16,
   "id": "302e5b6a-bd62-41ed-9528-8f461dff77ee",
   "metadata": {},
   "outputs": [
    {
     "data": {
      "text/plain": [
       "Dependents\n",
       "0    5\n",
       "1    3\n",
       "2    2\n",
       "3    2\n",
       "Name: count, dtype: int64"
      ]
     },
     "execution_count": 16,
     "metadata": {},
     "output_type": "execute_result"
    }
   ],
   "source": [
    "dataset[\"Dependents\"].value_counts()\n"
   ]
  },
  {
   "cell_type": "code",
   "execution_count": 18,
   "id": "12348319-4450-4be7-aa98-6d166c7d0d4d",
   "metadata": {},
   "outputs": [],
   "source": [
    "dataset[\"Dependents\"]=dataset[\"Dependents\"].astype(\"int64\")"
   ]
  },
  {
   "cell_type": "code",
   "execution_count": 19,
   "id": "8e9579fc-3508-48f2-96da-e5a964884f46",
   "metadata": {},
   "outputs": [
    {
     "name": "stdout",
     "output_type": "stream",
     "text": [
      "<class 'pandas.core.frame.DataFrame'>\n",
      "RangeIndex: 12 entries, 0 to 11\n",
      "Data columns (total 10 columns):\n",
      " #   Column              Non-Null Count  Dtype  \n",
      "---  ------              --------------  -----  \n",
      " 0   loan_id             11 non-null     float64\n",
      " 1   Gender              8 non-null      object \n",
      " 2   Married             8 non-null      object \n",
      " 3   Dependents          12 non-null     int64  \n",
      " 4   Education           5 non-null      object \n",
      " 5   self_employed       9 non-null      object \n",
      " 6   applicantincome     9 non-null      float64\n",
      " 7   coapplicant_income  12 non-null     int64  \n",
      " 8   loan_amount         11 non-null     float64\n",
      " 9   property            11 non-null     object \n",
      "dtypes: float64(3), int64(2), object(5)\n",
      "memory usage: 1.1+ KB\n"
     ]
    }
   ],
   "source": [
    "dataset.info()"
   ]
  },
  {
   "cell_type": "code",
   "execution_count": null,
   "id": "d568ed53-f6e2-4af2-8360-ffd74968b766",
   "metadata": {},
   "outputs": [],
   "source": []
  }
 ],
 "metadata": {
  "kernelspec": {
   "display_name": "Python 3 (ipykernel)",
   "language": "python",
   "name": "python3"
  },
  "language_info": {
   "codemirror_mode": {
    "name": "ipython",
    "version": 3
   },
   "file_extension": ".py",
   "mimetype": "text/x-python",
   "name": "python",
   "nbconvert_exporter": "python",
   "pygments_lexer": "ipython3",
   "version": "3.13.5"
  }
 },
 "nbformat": 4,
 "nbformat_minor": 5
}
